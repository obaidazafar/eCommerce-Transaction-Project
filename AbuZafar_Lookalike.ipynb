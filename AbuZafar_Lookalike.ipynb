{
 "cells": [
  {
   "cell_type": "code",
   "execution_count": 1,
   "id": "e13b503f",
   "metadata": {},
   "outputs": [],
   "source": [
    "import pandas as pd\n",
    "import numpy as np\n",
    "import matplotlib.pyplot as plt\n",
    "import seaborn as sns"
   ]
  },
  {
   "cell_type": "code",
   "execution_count": 2,
   "id": "e9d8fc8a",
   "metadata": {},
   "outputs": [],
   "source": [
    "products = pd.read_csv(r\"C:\\Users\\abuob\\Downloads\\Products.csv\")\n",
    "customers = pd.read_csv(r\"C:\\Users\\abuob\\Downloads\\Customers.csv\")\n",
    "transactions = pd.read_csv(r\"C:\\Users\\abuob\\Downloads\\Transactions.csv\")"
   ]
  },
  {
   "cell_type": "code",
   "execution_count": 4,
   "id": "aab976d0",
   "metadata": {},
   "outputs": [],
   "source": [
    "from sklearn.metrics.pairwise import cosine_similarity\n",
    "from sklearn.metrics import pairwise_distances"
   ]
  },
  {
   "cell_type": "code",
   "execution_count": 5,
   "id": "40635627",
   "metadata": {},
   "outputs": [],
   "source": [
    "merged_data = pd.merge(transactions, customers, on=\"CustomerID\")\n",
    "merged_data = pd.merge(merged_data, products, on=\"ProductID\")"
   ]
  },
  {
   "cell_type": "code",
   "execution_count": 6,
   "id": "96c62e5b",
   "metadata": {},
   "outputs": [],
   "source": [
    "# Create customer-level features\n",
    "customer_features = merged_data.groupby(\"CustomerID\").agg({\n",
    "    \"Quantity\": \"sum\",             # Total quantity purchased\n",
    "    \"Price_x\": \"mean\",               # Average price of products purchased\n",
    "    \"Region\": \"first\",             # Region of the customer\n",
    "    \"SignupDate\": \"first\"          # Signup date of the customer\n",
    "}).reset_index()"
   ]
  },
  {
   "cell_type": "code",
   "execution_count": 7,
   "id": "374533d8",
   "metadata": {},
   "outputs": [],
   "source": [
    "# Convert SignupDate to SignupYear\n",
    "customer_features[\"SignUpYear\"] = pd.to_datetime(customer_features[\"SignupDate\"]).dt.year\n",
    "customer_features.drop(\"SignupDate\", axis=1, inplace=True)"
   ]
  },
  {
   "cell_type": "code",
   "execution_count": 8,
   "id": "1241645d",
   "metadata": {},
   "outputs": [],
   "source": [
    "# One-hot encode the Region column\n",
    "customer_features = pd.get_dummies(customer_features, columns=[\"Region\"], drop_first=True)"
   ]
  },
  {
   "cell_type": "code",
   "execution_count": 9,
   "id": "75b1bd97",
   "metadata": {},
   "outputs": [],
   "source": [
    "from sklearn.preprocessing import StandardScaler\n",
    "# Standardize numerical features for similarity calculation\n",
    "scaler = StandardScaler()\n",
    "scaled_features = scaler.fit_transform(customer_features.drop([\"CustomerID\"], axis=1))"
   ]
  },
  {
   "cell_type": "code",
   "execution_count": 10,
   "id": "0561dc19",
   "metadata": {},
   "outputs": [],
   "source": [
    "# Calculate similarity using cosine similarity\n",
    "similarity_matrix = cosine_similarity(scaled_features)"
   ]
  },
  {
   "cell_type": "code",
   "execution_count": 11,
   "id": "6f7b024d",
   "metadata": {},
   "outputs": [],
   "source": [
    "# Function to get top 3 lookalikes for a given customer\n",
    "def get_top_3_lookalikes(customer_index, similarity_matrix):\n",
    "    similarities = list(enumerate(similarity_matrix[customer_index]))\n",
    "    similarities = sorted(similarities, key=lambda x: x[1], reverse=True)[1:4]  # Exclude self-match\n",
    "    return [(customer_features.iloc[sim[0]][\"CustomerID\"], round(sim[1], 3)) for sim in similarities]\n"
   ]
  },
  {
   "cell_type": "code",
   "execution_count": 12,
   "id": "0b2ede8b",
   "metadata": {},
   "outputs": [],
   "source": [
    "# Generate lookalikes for customers C0001 to C0020\n",
    "lookalikes = {}\n",
    "for customer_index in range(20):  # First 20 customers\n",
    "    customer_id = customer_features.iloc[customer_index][\"CustomerID\"]\n",
    "    lookalikes[customer_id] = get_top_3_lookalikes(customer_index, similarity_matrix)"
   ]
  },
  {
   "cell_type": "code",
   "execution_count": 14,
   "id": "447b18fb",
   "metadata": {},
   "outputs": [
    {
     "name": "stdout",
     "output_type": "stream",
     "text": [
      "\n",
      "Top 3 Lookalikes for Customer C0001:\n",
      "  Similar Customer: C0011, Similarity Score: 0.993\n",
      "  Similar Customer: C0152, Similarity Score: 0.986\n",
      "  Similar Customer: C0118, Similarity Score: 0.965\n"
     ]
    }
   ],
   "source": [
    "# Example: Check recommendations for a specific customer\n",
    "customer_index = 0  # Change this index to evaluate other customers\n",
    "customer_id = customer_features.iloc[customer_index][\"CustomerID\"]\n",
    "top_lookalikes = lookalikes[customer_id]\n",
    "\n",
    "print(f\"\\nTop 3 Lookalikes for Customer {customer_id}:\")\n",
    "for similar_customer, score in top_lookalikes:\n",
    "    print(f\"  Similar Customer: {similar_customer}, Similarity Score: {score}\")"
   ]
  },
  {
   "cell_type": "code",
   "execution_count": 15,
   "id": "a7f89ce2",
   "metadata": {},
   "outputs": [],
   "source": [
    "# 1. Verify logical similarity\n",
    "# Extract features of the evaluated customer and their top lookalike\n",
    "evaluated_customer_features = scaled_features[customer_index]\n",
    "top_lookalike_index = customer_features[customer_features[\"CustomerID\"] == top_lookalikes[0][0]].index[0]\n",
    "top_lookalike_features = scaled_features[top_lookalike_index]"
   ]
  },
  {
   "cell_type": "code",
   "execution_count": 16,
   "id": "e81de336",
   "metadata": {},
   "outputs": [
    {
     "name": "stdout",
     "output_type": "stream",
     "text": [
      "Euclidean Distance to Top Lookalike: 0.2624060794952542\n"
     ]
    }
   ],
   "source": [
    "# Calculate pairwise distance (lower is better for similarity)\n",
    "distance = pairwise_distances(\n",
    "    [evaluated_customer_features],\n",
    "    [top_lookalike_features],\n",
    "    metric=\"euclidean\"\n",
    ")\n",
    "print(f\"Euclidean Distance to Top Lookalike: {distance[0][0]}\")"
   ]
  },
  {
   "cell_type": "code",
   "execution_count": 17,
   "id": "79eb48d8",
   "metadata": {},
   "outputs": [
    {
     "name": "stdout",
     "output_type": "stream",
     "text": [
      "\n",
      "Similarity Scores Distribution for Customer C0001:\n",
      "  Mean Similarity: 0.006\n",
      "  Max Similarity: 1.000\n",
      "  Min Similarity: -0.645\n"
     ]
    }
   ],
   "source": [
    "# 2. Summary of Scores Distribution\n",
    "similarity_scores = similarity_matrix[customer_index]\n",
    "print(f\"\\nSimilarity Scores Distribution for Customer {customer_id}:\")\n",
    "print(f\"  Mean Similarity: {np.mean(similarity_scores):.3f}\")\n",
    "print(f\"  Max Similarity: {np.max(similarity_scores):.3f}\")\n",
    "print(f\"  Min Similarity: {np.min(similarity_scores):.3f}\")"
   ]
  },
  {
   "cell_type": "code",
   "execution_count": null,
   "id": "4c1dffc8",
   "metadata": {},
   "outputs": [],
   "source": []
  }
 ],
 "metadata": {
  "kernelspec": {
   "display_name": "Python 3 (ipykernel)",
   "language": "python",
   "name": "python3"
  },
  "language_info": {
   "codemirror_mode": {
    "name": "ipython",
    "version": 3
   },
   "file_extension": ".py",
   "mimetype": "text/x-python",
   "name": "python",
   "nbconvert_exporter": "python",
   "pygments_lexer": "ipython3",
   "version": "3.11.4"
  }
 },
 "nbformat": 4,
 "nbformat_minor": 5
}
